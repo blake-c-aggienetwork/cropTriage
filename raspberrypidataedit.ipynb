{
 "cells": [
  {
   "cell_type": "code",
   "execution_count": 1,
   "metadata": {},
   "outputs": [],
   "source": [
    "import pandas as pd\n",
    "import numpy as np"
   ]
  },
  {
   "cell_type": "code",
   "execution_count": 2,
   "metadata": {},
   "outputs": [],
   "source": [
    "dataset = pd.read_csv('ideal_raspberrypi_output.csv')\n",
    "# dataset.head()\n",
    "dataset = dataset.astype({'X': float, 'Y': float})"
   ]
  },
  {
   "cell_type": "code",
   "execution_count": 3,
   "metadata": {},
   "outputs": [],
   "source": [
    "# center of golf club\n",
    "# lat: 30.6178 long: -96.3320\n",
    "\n",
    "for i, j in dataset.iterrows():\n",
    "#     print(i)\n",
    "    dataset.iloc[i,0] = 30.6178 + np.random.normal(loc=0.0,scale=0.0005)\n",
    "    dataset.iloc[i,1] = -96.3320 + np.random.normal(loc=0.0,scale=0.0005)\n",
    "    "
   ]
  },
  {
   "cell_type": "code",
   "execution_count": 4,
   "metadata": {},
   "outputs": [
    {
     "name": "stdout",
     "output_type": "stream",
     "text": [
      "             X          Y    Z\n",
      "0    30.617749 -96.331894   46\n",
      "1    30.618297 -96.331457  111\n",
      "2    30.617972 -96.331810  159\n",
      "3    30.617436 -96.332370  196\n",
      "4    30.617919 -96.331596    8\n",
      "..         ...        ...  ...\n",
      "435  30.617988 -96.332894  150\n",
      "436  30.618368 -96.331596   22\n",
      "437  30.618119 -96.332428  149\n",
      "438  30.617865 -96.332517  196\n",
      "439  30.617986 -96.331958  154\n",
      "\n",
      "[440 rows x 3 columns]\n"
     ]
    }
   ],
   "source": [
    "# dataset.info()\n",
    "print(dataset)"
   ]
  },
  {
   "cell_type": "code",
   "execution_count": 5,
   "metadata": {},
   "outputs": [],
   "source": [
    "dataset.to_csv(\"datasetnew.csv\", index=False)"
   ]
  },
  {
   "cell_type": "code",
   "execution_count": 2,
   "metadata": {},
   "outputs": [],
   "source": [
    "import random\n",
    "import math"
   ]
  },
  {
   "cell_type": "code",
   "execution_count": 3,
   "metadata": {},
   "outputs": [],
   "source": [
    "x_center = 30.6178\n",
    "y_center = -96.3320\n",
    "def genZpoint():\n",
    "    chance = np.random.rand()\n",
    "    if chance < 0.5:\n",
    "        return np.random.normal(loc = 0.0, scale=0.1)\n",
    "    else:\n",
    "        return np.random.normal(loc=0.0,scale=0.5) + 6\n",
    "\n",
    "\n",
    "def genPointInACircle():\n",
    "    # radius of the circle\n",
    "    circle_r = 0.005\n",
    "    # center of the circle (x, y)\n",
    "    circle_x = x_center\n",
    "    circle_y = y_center\n",
    "\n",
    "    # random angle\n",
    "    alpha = 2 * math.pi * random.random()\n",
    "    # random radius\n",
    "    r = circle_r * math.sqrt(random.random())\n",
    "    # calculating coordinates\n",
    "    x = r * math.cos(alpha) + circle_x\n",
    "    y = r * math.sin(alpha) + circle_y\n",
    "    return [x,y]\n",
    "\n",
    "def genPoint():\n",
    "    coord = genPointInACircle()\n",
    "    coord.append(genZpoint())\n",
    "    return coord"
   ]
  },
  {
   "cell_type": "code",
   "execution_count": 7,
   "metadata": {},
   "outputs": [],
   "source": [
    "genDataArray = []\n",
    "for i in range(0,1000):\n",
    "    genDataArray.append(genPoint())\n",
    "\n",
    "generatedDataFrame = pd.DataFrame(np.array(genDataArray))\n",
    "generatedDataFrame = generatedDataFrame.rename(columns={0:\"X\",1:\"Y\",2:\"Z\"})"
   ]
  },
  {
   "cell_type": "code",
   "execution_count": 8,
   "metadata": {},
   "outputs": [],
   "source": [
    "generatedDataFrame.to_csv(\"1000.csv\", index=False)"
   ]
  },
  {
   "cell_type": "code",
   "execution_count": 55,
   "metadata": {},
   "outputs": [
    {
     "name": "stdout",
     "output_type": "stream",
     "text": [
      "                       X        Y       Z\n",
      "0                      a           -99.00\n",
      "1                   1.23  123.215  599.52\n",
      "2  this should exception  123.124    0.00\n"
     ]
    }
   ],
   "source": [
    "errorData = pd.DataFrame([[\"a\",\" \", -99], [1.23,123.215,599.52], [\"this should exception\",123.124,0]],columns=[\"X\",\"Y\",\"Z\"])\n",
    "print(errorData)"
   ]
  },
  {
   "cell_type": "code",
   "execution_count": 58,
   "metadata": {},
   "outputs": [],
   "source": [
    "errorData.to_csv(\"errorDataset.csv\",index=False)"
   ]
  }
 ],
 "metadata": {
  "kernelspec": {
   "display_name": "Python 3",
   "language": "python",
   "name": "python3"
  },
  "language_info": {
   "codemirror_mode": {
    "name": "ipython",
    "version": 3
   },
   "file_extension": ".py",
   "mimetype": "text/x-python",
   "name": "python",
   "nbconvert_exporter": "python",
   "pygments_lexer": "ipython3",
   "version": "3.8.5"
  }
 },
 "nbformat": 4,
 "nbformat_minor": 4
}
